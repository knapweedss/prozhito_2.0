{
 "cells": [
  {
   "cell_type": "code",
   "execution_count": 14,
   "id": "50bb5f8c",
   "metadata": {},
   "outputs": [
    {
     "data": {
      "text/html": [
       "<div>\n",
       "<style scoped>\n",
       "    .dataframe tbody tr th:only-of-type {\n",
       "        vertical-align: middle;\n",
       "    }\n",
       "\n",
       "    .dataframe tbody tr th {\n",
       "        vertical-align: top;\n",
       "    }\n",
       "\n",
       "    .dataframe thead th {\n",
       "        text-align: right;\n",
       "    }\n",
       "</style>\n",
       "<table border=\"1\" class=\"dataframe\">\n",
       "  <thead>\n",
       "    <tr style=\"text-align: right;\">\n",
       "      <th></th>\n",
       "      <th>Unnamed: 0</th>\n",
       "      <th>0</th>\n",
       "      <th>1</th>\n",
       "    </tr>\n",
       "  </thead>\n",
       "  <tbody>\n",
       "    <tr>\n",
       "      <th>0</th>\n",
       "      <td>0</td>\n",
       "      <td>Потому , что не было уверенности , что все чит...</td>\n",
       "      <td>O O O O O O O O O O O O O O O O O O O O O O O ...</td>\n",
       "    </tr>\n",
       "    <tr>\n",
       "      <th>1</th>\n",
       "      <td>1</td>\n",
       "      <td>&gt; Каким приговором , указом каким &gt; Ты здесь ,...</td>\n",
       "      <td>O O O O O O O O O O O O O O O O O</td>\n",
       "    </tr>\n",
       "    <tr>\n",
       "      <th>2</th>\n",
       "      <td>2</td>\n",
       "      <td>Подумал , что летом ребята куда затащили .</td>\n",
       "      <td>O O O O B-CHAR O O O</td>\n",
       "    </tr>\n",
       "    <tr>\n",
       "      <th>3</th>\n",
       "      <td>3</td>\n",
       "      <td>Нашел потрясающие материалы о В . М . Брадисе ...</td>\n",
       "      <td>O O O O B-PER I-PER I-PER I-PER I-PER O O B-CH...</td>\n",
       "    </tr>\n",
       "    <tr>\n",
       "      <th>4</th>\n",
       "      <td>4</td>\n",
       "      <td>Уж то ростовское дело куда ярче !..</td>\n",
       "      <td>O O O O O O O</td>\n",
       "    </tr>\n",
       "    <tr>\n",
       "      <th>...</th>\n",
       "      <td>...</td>\n",
       "      <td>...</td>\n",
       "      <td>...</td>\n",
       "    </tr>\n",
       "    <tr>\n",
       "      <th>1326</th>\n",
       "      <td>1326</td>\n",
       "      <td>23 мая , примерно в 7 часов ( 18 .</td>\n",
       "      <td>O O O O O O O O O O</td>\n",
       "    </tr>\n",
       "    <tr>\n",
       "      <th>1327</th>\n",
       "      <td>1327</td>\n",
       "      <td>Всю дорогу разговаривали .</td>\n",
       "      <td>O O O O</td>\n",
       "    </tr>\n",
       "    <tr>\n",
       "      <th>1328</th>\n",
       "      <td>1328</td>\n",
       "      <td>Но не столь сильно , чтобы стать замкнутым в с...</td>\n",
       "      <td>O O O O O O O O O O O O O</td>\n",
       "    </tr>\n",
       "    <tr>\n",
       "      <th>1329</th>\n",
       "      <td>1329</td>\n",
       "      <td>В русском переводе примерно такой : « Здравств...</td>\n",
       "      <td>O O O O O O O O O O B-CHAR O</td>\n",
       "    </tr>\n",
       "    <tr>\n",
       "      <th>1330</th>\n",
       "      <td>1330</td>\n",
       "      <td>Если , как это у них принято , письмо переправ...</td>\n",
       "      <td>O O O O O O O O O O O B-ORG O O O O O O O O O ...</td>\n",
       "    </tr>\n",
       "  </tbody>\n",
       "</table>\n",
       "<p>1331 rows × 3 columns</p>\n",
       "</div>"
      ],
      "text/plain": [
       "      Unnamed: 0                                                  0  \\\n",
       "0              0  Потому , что не было уверенности , что все чит...   \n",
       "1              1  > Каким приговором , указом каким > Ты здесь ,...   \n",
       "2              2         Подумал , что летом ребята куда затащили .   \n",
       "3              3  Нашел потрясающие материалы о В . М . Брадисе ...   \n",
       "4              4                Уж то ростовское дело куда ярче !..   \n",
       "...          ...                                                ...   \n",
       "1326        1326                 23 мая , примерно в 7 часов ( 18 .   \n",
       "1327        1327                         Всю дорогу разговаривали .   \n",
       "1328        1328  Но не столь сильно , чтобы стать замкнутым в с...   \n",
       "1329        1329  В русском переводе примерно такой : « Здравств...   \n",
       "1330        1330  Если , как это у них принято , письмо переправ...   \n",
       "\n",
       "                                                      1  \n",
       "0     O O O O O O O O O O O O O O O O O O O O O O O ...  \n",
       "1                     O O O O O O O O O O O O O O O O O  \n",
       "2                                  O O O O B-CHAR O O O  \n",
       "3     O O O O B-PER I-PER I-PER I-PER I-PER O O B-CH...  \n",
       "4                                         O O O O O O O  \n",
       "...                                                 ...  \n",
       "1326                                O O O O O O O O O O  \n",
       "1327                                            O O O O  \n",
       "1328                          O O O O O O O O O O O O O  \n",
       "1329                       O O O O O O O O O O B-CHAR O  \n",
       "1330  O O O O O O O O O O O B-ORG O O O O O O O O O ...  \n",
       "\n",
       "[1331 rows x 3 columns]"
      ]
     },
     "execution_count": 14,
     "metadata": {},
     "output_type": "execute_result"
    }
   ],
   "source": [
    "import pandas as pd\n",
    "df = pd.read_csv('data.tsv', sep='\\t')\n",
    "df"
   ]
  },
  {
   "cell_type": "code",
   "execution_count": 17,
   "id": "5698ec06",
   "metadata": {},
   "outputs": [
    {
     "data": {
      "text/plain": [
       "2              Подумал , что летом ребята куда затащили .\n",
       "3       Нашел потрясающие материалы о В . М . Брадисе ...\n",
       "9       А рейтинг Ельцина рос , поэтому критика в его ...\n",
       "16                             Теперь Гладилова уезжает .\n",
       "19                                  — « Эмма все врет ! »\n",
       "                              ...                        \n",
       "1315     Я пел « оперу » « Игорь Алтунин — супер стар » .\n",
       "1318                               Хорошо говорит Битов .\n",
       "1320                            ( Чья-то родственница ) .\n",
       "1324    Игорь Дедков в телефонном разговоре очень удив...\n",
       "1329    В русском переводе примерно такой : « Здравств...\n",
       "Name: 0, Length: 511, dtype: object"
      ]
     },
     "execution_count": 17,
     "metadata": {},
     "output_type": "execute_result"
    }
   ],
   "source": [
    "result = df[df['1'].str.contains('CHAR|PER')]"
   ]
  },
  {
   "cell_type": "code",
   "execution_count": 20,
   "id": "d1cfa64f",
   "metadata": {},
   "outputs": [],
   "source": [
    "result['0'].to_csv('data_perchar.tsv', index=False, encoding='UTF-8')"
   ]
  },
  {
   "cell_type": "code",
   "execution_count": null,
   "id": "4c42259c",
   "metadata": {},
   "outputs": [],
   "source": []
  }
 ],
 "metadata": {
  "kernelspec": {
   "display_name": "Python 3 (ipykernel)",
   "language": "python",
   "name": "python3"
  },
  "language_info": {
   "codemirror_mode": {
    "name": "ipython",
    "version": 3
   },
   "file_extension": ".py",
   "mimetype": "text/x-python",
   "name": "python",
   "nbconvert_exporter": "python",
   "pygments_lexer": "ipython3",
   "version": "3.10.0"
  }
 },
 "nbformat": 4,
 "nbformat_minor": 5
}
